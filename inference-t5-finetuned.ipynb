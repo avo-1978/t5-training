{
 "cells": [
  {
   "cell_type": "code",
   "execution_count": 23,
   "id": "4eec670c-1177-439d-bd18-1a84012c0a3f",
   "metadata": {},
   "outputs": [
    {
     "name": "stdout",
     "output_type": "stream",
     "text": [
      "CUDA available: True\n",
      "GPU: NVIDIA GeForce RTX 3060 Laptop GPU\n",
      "Starting automated test...\n",
      "Test iteration 1 completed for file 'val_kitchen_dataset.txt'.\n",
      "Test iteration 2 completed for file 'val_kitchen_dataset.txt'.\n",
      "Test iteration 3 completed for file 'val_kitchen_dataset.txt'.\n",
      "Test iteration 4 completed for file 'val_kitchen_dataset.txt'.\n",
      "Test iteration 5 completed for file 'val_kitchen_dataset.txt'.\n",
      "Test iteration 6 completed for file 'val_kitchen_dataset.txt'.\n",
      "Test iteration 7 completed for file 'val_kitchen_dataset.txt'.\n",
      "Test iteration 8 completed for file 'val_kitchen_dataset.txt'.\n",
      "Test iteration 9 completed for file 'val_kitchen_dataset.txt'.\n",
      "Test iteration 10 completed for file 'val_kitchen_dataset.txt'.\n",
      "Test iteration 11 completed for file 'val_kitchen_dataset.txt'.\n",
      "Test iteration 12 completed for file 'val_kitchen_dataset.txt'.\n",
      "Test iteration 13 completed for file 'val_kitchen_dataset.txt'.\n",
      "Test iteration 14 completed for file 'val_kitchen_dataset.txt'.\n",
      "Automated test completed.\n",
      "Enter your own prompts. To exit, type 'q!'.\n"
     ]
    },
    {
     "name": "stdin",
     "output_type": "stream",
     "text": [
      "Enter a new prompt:  Kitchen light on please\n"
     ]
    },
    {
     "name": "stdout",
     "output_type": "stream",
     "text": [
      "Input text: Kitchen light on please\n",
      "Generated response: (command_begin)\"avo_home\": \"light kitchen\", \"value\": \"on\"(command_end)\n",
      "--------------------------------------------------\n"
     ]
    },
    {
     "name": "stdin",
     "output_type": "stream",
     "text": [
      "Enter a new prompt:  Living room llight off please\n"
     ]
    },
    {
     "name": "stdout",
     "output_type": "stream",
     "text": [
      "Input text: Living room llight off please\n",
      "Generated response: (command_begin)\"avo_home\": \"light room\", \"value\": \"off\"(command_end)\n",
      "--------------------------------------------------\n"
     ]
    },
    {
     "name": "stdin",
     "output_type": "stream",
     "text": [
      "Enter a new prompt:  Living room light off please\n"
     ]
    },
    {
     "name": "stdout",
     "output_type": "stream",
     "text": [
      "Input text: Living room light off please\n",
      "Generated response: (command_begin)\"avo_home\": \"light living\", \"value\": \"off\"(command_end)\n",
      "--------------------------------------------------\n"
     ]
    },
    {
     "name": "stdin",
     "output_type": "stream",
     "text": [
      "Enter a new prompt:  Living room light off please\n"
     ]
    },
    {
     "name": "stdout",
     "output_type": "stream",
     "text": [
      "Input text: Living room light off please\n",
      "Generated response: (command_begin)\"avo_home\": \"light living\", \"value\": \"off\"(command_end)\n",
      "--------------------------------------------------\n"
     ]
    },
    {
     "name": "stdin",
     "output_type": "stream",
     "text": [
      "Enter a new prompt:  1+1 is\n"
     ]
    },
    {
     "name": "stdout",
     "output_type": "stream",
     "text": [
      "Input text: 1+1 is\n",
      "Generated response: 1+1 is\n",
      "--------------------------------------------------\n"
     ]
    },
    {
     "name": "stdin",
     "output_type": "stream",
     "text": [
      "Enter a new prompt:  bye\n"
     ]
    },
    {
     "name": "stdout",
     "output_type": "stream",
     "text": [
      "Input text: bye\n",
      "Generated response: (command_begin)\"avo_home\": \"(command_end)\n",
      "--------------------------------------------------\n"
     ]
    },
    {
     "name": "stdin",
     "output_type": "stream",
     "text": [
      "Enter a new prompt:  dark\n"
     ]
    },
    {
     "name": "stdout",
     "output_type": "stream",
     "text": [
      "Input text: dark\n",
      "Generated response: (command_end)\n",
      "--------------------------------------------------\n"
     ]
    },
    {
     "name": "stdin",
     "output_type": "stream",
     "text": [
      "Enter a new prompt:  It is dark\n"
     ]
    },
    {
     "name": "stdout",
     "output_type": "stream",
     "text": [
      "Input text: It is dark\n",
      "Generated response: Es ist dunkel, aber es ist dunkel.\n",
      "--------------------------------------------------\n"
     ]
    },
    {
     "name": "stdin",
     "output_type": "stream",
     "text": [
      "Enter a new prompt:  it is dark in the kitchen\n"
     ]
    },
    {
     "name": "stdout",
     "output_type": "stream",
     "text": [
      "Input text: it is dark in the kitchen\n",
      "Generated response: (command_begin)\"avo_home\": \"light kitchen\", \"value\": \"off\"(command_end)\n",
      "--------------------------------------------------\n"
     ]
    },
    {
     "name": "stdin",
     "output_type": "stream",
     "text": [
      "Enter a new prompt:  q!\n"
     ]
    },
    {
     "name": "stdout",
     "output_type": "stream",
     "text": [
      "Exiting...\n"
     ]
    }
   ],
   "source": [
    "import os\n",
    "import torch\n",
    "from transformers import T5ForConditionalGeneration, T5Tokenizer\n",
    "\n",
    "# Verify GPU availability\n",
    "print(\"CUDA available:\", torch.cuda.is_available())\n",
    "print(\"GPU:\", torch.cuda.get_device_name(0))\n",
    "\n",
    "# Load fine-tuned tokenizer and model\n",
    "model_name = \"./fine-tuned-model\"\n",
    "tokenizer = T5Tokenizer.from_pretrained(model_name)\n",
    "model = T5ForConditionalGeneration.from_pretrained(model_name).to(torch.device(\"cuda\" if torch.cuda.is_available() else \"cpu\"))\n",
    "\n",
    "# Function to load all datasets from a directory\n",
    "def load_datasets_from_directory(directory):\n",
    "    prompts, expected_outputs, files = [], [], []\n",
    "    for filename in os.listdir(directory):\n",
    "        if filename.endswith(\".txt\"):\n",
    "            file_path = os.path.join(directory, filename)\n",
    "            with open(file_path, 'r', encoding='utf-8') as f:\n",
    "                lines = f.read().splitlines()\n",
    "                for line in lines:\n",
    "                    if '|' in line:\n",
    "                        input_text, output_text = line.split('|', 1)\n",
    "                        prompts.append(input_text.strip())\n",
    "                        expected_outputs.append(output_text.strip())\n",
    "                        files.append(filename)\n",
    "                    else:\n",
    "                        print(f\"Skipping malformed line: {line}\")\n",
    "    return prompts, expected_outputs, files\n",
    "\n",
    "# Directory for validation datasets\n",
    "val_dir = \"validation_datasets\"\n",
    "\n",
    "# Load validation datasets\n",
    "prompts, expected_outputs, files = load_datasets_from_directory(val_dir)\n",
    "\n",
    "# Process each prompt and generate the result\n",
    "print(\"Starting automated test...\")\n",
    "for i, (input_text, expected_output, file) in enumerate(zip(prompts, expected_outputs, files), 1):\n",
    "    inputs = tokenizer(input_text, return_tensors='pt', padding='max_length', max_length=50, truncation=True).to(torch.device(\"cuda\" if torch.cuda.is_available() else \"cpu\"))\n",
    "\n",
    "    # Generate response with attention mask and additional parameters\n",
    "    with torch.no_grad():\n",
    "        outputs = model.generate(\n",
    "            inputs['input_ids'],\n",
    "            attention_mask=inputs['attention_mask'],  # Pass the attention mask\n",
    "            max_length=50,\n",
    "            pad_token_id=tokenizer.eos_token_id,\n",
    "            num_beams=5,  # Use beam search to potentially improve generation quality\n",
    "            early_stopping=True,\n",
    "            do_sample=True,  # Enable sampling\n",
    "            temperature=0.7,  # Control randomness\n",
    "            top_k=50,  # Limit to top-k tokens\n",
    "            top_p=0.9  # Nucleus sampling\n",
    "        )\n",
    "        response = tokenizer.decode(outputs[0], skip_special_tokens=True)\n",
    "\n",
    "    # Check if the response matches the expected output\n",
    "    if response.strip() != expected_output.strip():\n",
    "        print(f\"WARNING: For prompt from file '{file}': '{input_text}', expected '{expected_output}' but got '{response}'\")\n",
    "    print(f\"Test iteration {i} completed for file '{file}'.\")\n",
    "\n",
    "print(\"Automated test completed.\")\n",
    "print(\"Enter your own prompts. To exit, type 'q!'.\")\n",
    "\n",
    "while True:\n",
    "    user_input = input(\"Enter a new prompt: \").strip()\n",
    "    \n",
    "    if user_input.lower() == \"q!\":\n",
    "        print(\"Exiting...\")\n",
    "        break\n",
    "\n",
    "    inputs = tokenizer(user_input, return_tensors='pt', padding='max_length', max_length=50, truncation=True).to(torch.device(\"cuda\" if torch.cuda.is_available() else \"cpu\"))\n",
    "\n",
    "    with torch.no_grad():\n",
    "        outputs = model.generate(\n",
    "            inputs['input_ids'],\n",
    "            attention_mask=inputs['attention_mask'],  # Pass the attention mask\n",
    "            max_length=50,\n",
    "            pad_token_id=tokenizer.eos_token_id,\n",
    "            num_beams=5,  # Use beam search to potentially improve generation quality\n",
    "            early_stopping=True,\n",
    "            do_sample=True,  # Enable sampling\n",
    "            temperature=0.7,  # Control randomness\n",
    "            top_k=50,  # Limit to top-k tokens\n",
    "            top_p=0.9  # Nucleus sampling\n",
    "        )\n",
    "        response = tokenizer.decode(outputs[0], skip_special_tokens=True)\n",
    "\n",
    "    print(f\"Input text: {user_input}\")\n",
    "    print(f\"Generated response: {response}\")\n",
    "    print(\"-\" * 50)  # Separator for readability\n"
   ]
  },
  {
   "cell_type": "code",
   "execution_count": null,
   "id": "f38ee2a0-e5cb-4411-ae6a-f81f4b9bda10",
   "metadata": {},
   "outputs": [],
   "source": []
  }
 ],
 "metadata": {
  "kernelspec": {
   "display_name": "Python 3 (ipykernel)",
   "language": "python",
   "name": "python3"
  },
  "language_info": {
   "codemirror_mode": {
    "name": "ipython",
    "version": 3
   },
   "file_extension": ".py",
   "mimetype": "text/x-python",
   "name": "python",
   "nbconvert_exporter": "python",
   "pygments_lexer": "ipython3",
   "version": "3.8.20"
  }
 },
 "nbformat": 4,
 "nbformat_minor": 5
}
