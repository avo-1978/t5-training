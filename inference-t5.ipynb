{
 "cells": [
  {
   "cell_type": "code",
   "execution_count": 2,
   "id": "4eec670c-1177-439d-bd18-1a84012c0a3f",
   "metadata": {},
   "outputs": [
    {
     "name": "stdout",
     "output_type": "stream",
     "text": [
      "CUDA available: True\n",
      "GPU: NVIDIA GeForce RTX 3060 Laptop GPU\n"
     ]
    },
    {
     "name": "stderr",
     "output_type": "stream",
     "text": [
      "You are using the default legacy behaviour of the <class 'transformers.models.t5.tokenization_t5.T5Tokenizer'>. This is expected, and simply means that the `legacy` (previous) behavior will be used so nothing changes for you. If you want to use the new behaviour, set `legacy=False`. This should only be set if you understand what it means, and thoroughly read the reason why this was added as explained in https://github.com/huggingface/transformers/pull/24565\n"
     ]
    },
    {
     "name": "stdout",
     "output_type": "stream",
     "text": [
      "Input text: turn on my kitchen light\n",
      "Generated response: turn on my light\n",
      "--------------------------------------------------\n",
      "Input text: turn off my kitchen light\n",
      "Generated response: turn off my kitchen light\n",
      "--------------------------------------------------\n",
      "Input text: turn on the living room light\n",
      "Generated response: turn on the light\n",
      "--------------------------------------------------\n",
      "Input text: turn off the living room light\n",
      "Generated response: turn off the light\n",
      "--------------------------------------------------\n"
     ]
    }
   ],
   "source": [
    "import torch\n",
    "from transformers import T5ForConditionalGeneration, T5Tokenizer\n",
    "\n",
    "# Verify GPU availability\n",
    "print(\"CUDA available:\", torch.cuda.is_available())\n",
    "print(\"GPU:\", torch.cuda.get_device_name(0))\n",
    "\n",
    "# Load the original tokenizer and model\n",
    "model_name = \"t5-small\"\n",
    "tokenizer = T5Tokenizer.from_pretrained(model_name)\n",
    "model = T5ForConditionalGeneration.from_pretrained(model_name).to(torch.device(\"cuda\" if torch.cuda.is_available() else \"cpu\"))\n",
    "\n",
    "# Read prompts from dataset.txt\n",
    "file_path = \"dataset.txt\"\n",
    "lines = open(file_path, 'r', encoding='utf-8').read().splitlines()\n",
    "prompts = [line.split('|')[0].strip() for line in lines if '|' in line]\n",
    "\n",
    "# Process each prompt and generate the result\n",
    "for input_text in prompts:\n",
    "    inputs = tokenizer(input_text, return_tensors='pt', padding='max_length', max_length=50, truncation=True).to(torch.device(\"cuda\" if torch.cuda.is_available() else \"cpu\"))\n",
    "\n",
    "    # Generate response with attention mask and additional parameters\n",
    "    with torch.no_grad():\n",
    "        outputs = model.generate(\n",
    "            inputs['input_ids'],\n",
    "            attention_mask=inputs['attention_mask'],  # Pass the attention mask\n",
    "            max_length=50,\n",
    "            pad_token_id=tokenizer.eos_token_id,\n",
    "            num_beams=5,  # Use beam search to potentially improve generation quality\n",
    "            early_stopping=True,\n",
    "            do_sample=True,  # Enable sampling\n",
    "            temperature=0.7,  # Control randomness\n",
    "            top_k=50,  # Limit to top-k tokens\n",
    "            top_p=0.9  # Nucleus sampling\n",
    "        )\n",
    "        response = tokenizer.decode(outputs[0], skip_special_tokens=True)\n",
    "\n",
    "    print(f\"Input text: {input_text}\")\n",
    "    print(f\"Generated response: {response}\")\n",
    "    print(\"-\" * 50)  # Separator for readability\n"
   ]
  },
  {
   "cell_type": "code",
   "execution_count": null,
   "id": "f38ee2a0-e5cb-4411-ae6a-f81f4b9bda10",
   "metadata": {},
   "outputs": [],
   "source": []
  }
 ],
 "metadata": {
  "kernelspec": {
   "display_name": "Python 3 (ipykernel)",
   "language": "python",
   "name": "python3"
  },
  "language_info": {
   "codemirror_mode": {
    "name": "ipython",
    "version": 3
   },
   "file_extension": ".py",
   "mimetype": "text/x-python",
   "name": "python",
   "nbconvert_exporter": "python",
   "pygments_lexer": "ipython3",
   "version": "3.8.20"
  }
 },
 "nbformat": 4,
 "nbformat_minor": 5
}
